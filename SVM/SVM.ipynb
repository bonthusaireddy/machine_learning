{
 "cells": [
  {
   "cell_type": "markdown",
   "id": "brief-berkeley",
   "metadata": {},
   "source": [
    "# SVM"
   ]
  },
  {
   "cell_type": "markdown",
   "id": "functional-boating",
   "metadata": {},
   "source": [
    "### 1: Import nessecary library "
   ]
  },
  {
   "cell_type": "code",
   "execution_count": 15,
   "id": "occupied-equality",
   "metadata": {},
   "outputs": [],
   "source": [
    "import sklearn\n",
    "from sklearn import svm\n",
    "from sklearn import datasets\n",
    "from sklearn import metrics"
   ]
  },
  {
   "cell_type": "markdown",
   "id": "biological-median",
   "metadata": {},
   "source": [
    "### 2: Load the dataset "
   ]
  },
  {
   "cell_type": "code",
   "execution_count": 16,
   "id": "following-marks",
   "metadata": {},
   "outputs": [],
   "source": [
    "cancer = datasets.load_breast_cancer()"
   ]
  },
  {
   "cell_type": "markdown",
   "id": "postal-elder",
   "metadata": {},
   "source": [
    "## Optional <br> \n",
    "    look in to the data"
   ]
  },
  {
   "cell_type": "code",
   "execution_count": 17,
   "id": "downtown-amendment",
   "metadata": {},
   "outputs": [
    {
     "name": "stdout",
     "output_type": "stream",
     "text": [
      "Features:  ['mean radius' 'mean texture' 'mean perimeter' 'mean area'\n",
      " 'mean smoothness' 'mean compactness' 'mean concavity'\n",
      " 'mean concave points' 'mean symmetry' 'mean fractal dimension'\n",
      " 'radius error' 'texture error' 'perimeter error' 'area error'\n",
      " 'smoothness error' 'compactness error' 'concavity error'\n",
      " 'concave points error' 'symmetry error' 'fractal dimension error'\n",
      " 'worst radius' 'worst texture' 'worst perimeter' 'worst area'\n",
      " 'worst smoothness' 'worst compactness' 'worst concavity'\n",
      " 'worst concave points' 'worst symmetry' 'worst fractal dimension']\n"
     ]
    }
   ],
   "source": [
    "print(\"Features: \", cancer.feature_names )"
   ]
  },
  {
   "cell_type": "code",
   "execution_count": 18,
   "id": "awful-concern",
   "metadata": {},
   "outputs": [
    {
     "name": "stdout",
     "output_type": "stream",
     "text": [
      "Labels:  ['malignant' 'benign']\n"
     ]
    }
   ],
   "source": [
    "print(\"Labels: \", cancer.target_names )"
   ]
  },
  {
   "cell_type": "markdown",
   "id": "entitled-arena",
   "metadata": {},
   "source": [
    "### 3: Set input to the model as x and output as y "
   ]
  },
  {
   "cell_type": "code",
   "execution_count": 19,
   "id": "complicated-student",
   "metadata": {},
   "outputs": [],
   "source": [
    "x = cancer.data\n",
    "y = cancer.target"
   ]
  },
  {
   "cell_type": "markdown",
   "id": "severe-convergence",
   "metadata": {},
   "source": [
    "### 4: Split the data into training data and testing data"
   ]
  },
  {
   "cell_type": "code",
   "execution_count": 20,
   "id": "false-values",
   "metadata": {},
   "outputs": [],
   "source": [
    "x_train, x_test, y_train, y_test = sklearn.model_selection.train_test_split(x, y, test_size=0.1)"
   ]
  },
  {
   "cell_type": "markdown",
   "id": "stuck-football",
   "metadata": {},
   "source": [
    "##  Look at the data "
   ]
  },
  {
   "cell_type": "code",
   "execution_count": 21,
   "id": "impaired-statement",
   "metadata": {},
   "outputs": [
    {
     "name": "stdout",
     "output_type": "stream",
     "text": [
      "[[1.311e+01 1.556e+01 8.721e+01 5.302e+02 1.398e-01 1.765e-01 2.071e-01\n",
      "  9.601e-02 1.925e-01 7.692e-02 3.908e-01 9.238e-01 2.410e+00 3.466e+01\n",
      "  7.162e-03 2.912e-02 5.473e-02 1.388e-02 1.547e-02 7.098e-03 1.631e+01\n",
      "  2.240e+01 1.064e+02 8.272e+02 1.862e-01 4.099e-01 6.376e-01 1.986e-01\n",
      "  3.147e-01 1.405e-01]\n",
      " [1.419e+01 2.381e+01 9.287e+01 6.107e+02 9.463e-02 1.306e-01 1.115e-01\n",
      "  6.462e-02 2.235e-01 6.433e-02 4.207e-01 1.845e+00 3.534e+00 3.100e+01\n",
      "  1.088e-02 3.710e-02 3.688e-02 1.627e-02 4.499e-02 4.768e-03 1.686e+01\n",
      "  3.485e+01 1.150e+02 8.113e+02 1.559e-01 4.059e-01 3.744e-01 1.772e-01\n",
      "  4.724e-01 1.026e-01]\n",
      " [1.353e+01 1.094e+01 8.791e+01 5.592e+02 1.291e-01 1.047e-01 6.877e-02\n",
      "  6.556e-02 2.403e-01 6.641e-02 4.101e-01 1.014e+00 2.652e+00 3.265e+01\n",
      "  1.340e-02 2.839e-02 1.162e-02 8.239e-03 2.572e-02 6.164e-03 1.408e+01\n",
      "  1.249e+01 9.136e+01 6.055e+02 1.451e-01 1.379e-01 8.539e-02 7.407e-02\n",
      "  2.710e-01 7.191e-02]\n",
      " [1.822e+01 1.870e+01 1.203e+02 1.033e+03 1.148e-01 1.485e-01 1.772e-01\n",
      "  1.060e-01 2.092e-01 6.310e-02 8.337e-01 1.593e+00 4.877e+00 9.881e+01\n",
      "  3.899e-03 2.961e-02 2.817e-02 9.222e-03 2.674e-02 5.126e-03 2.060e+01\n",
      "  2.413e+01 1.351e+02 1.321e+03 1.280e-01 2.297e-01 2.623e-01 1.325e-01\n",
      "  3.021e-01 7.987e-02]\n",
      " [1.444e+01 1.518e+01 9.397e+01 6.401e+02 9.970e-02 1.021e-01 8.487e-02\n",
      "  5.532e-02 1.724e-01 6.081e-02 2.406e-01 7.394e-01 2.120e+00 2.120e+01\n",
      "  5.706e-03 2.297e-02 3.114e-02 1.493e-02 1.454e-02 2.528e-03 1.585e+01\n",
      "  1.985e+01 1.086e+02 7.669e+02 1.316e-01 2.735e-01 3.103e-01 1.599e-01\n",
      "  2.691e-01 7.683e-02]] [0 0 1 0 1]\n"
     ]
    }
   ],
   "source": [
    "print(x_train[:5], y_train[:5])"
   ]
  },
  {
   "cell_type": "markdown",
   "id": "oriented-first",
   "metadata": {},
   "source": [
    "### 5:  Load the function in a variable"
   ]
  },
  {
   "cell_type": "code",
   "execution_count": 22,
   "id": "cleared-expert",
   "metadata": {},
   "outputs": [],
   "source": [
    "model = svm.SVC()"
   ]
  },
  {
   "cell_type": "markdown",
   "id": "vital-attachment",
   "metadata": {},
   "source": [
    "### 6: Use kernal for better accuracy "
   ]
  },
  {
   "cell_type": "code",
   "execution_count": 23,
   "id": "prepared-sydney",
   "metadata": {},
   "outputs": [],
   "source": [
    "model = svm.SVC(kernel=\"linear\", C=2)"
   ]
  },
  {
   "cell_type": "markdown",
   "id": "atomic-details",
   "metadata": {},
   "source": [
    "### 7: Load the model with training data "
   ]
  },
  {
   "cell_type": "code",
   "execution_count": 24,
   "id": "liked-beatles",
   "metadata": {
    "scrolled": true
   },
   "outputs": [
    {
     "data": {
      "text/plain": [
       "SVC(C=2, kernel='linear')"
      ]
     },
     "execution_count": 24,
     "metadata": {},
     "output_type": "execute_result"
    }
   ],
   "source": [
    "model.fit(x_train, y_train)"
   ]
  },
  {
   "cell_type": "markdown",
   "id": "minute-bennett",
   "metadata": {},
   "source": [
    "### 8: Predict the models accuracy "
   ]
  },
  {
   "cell_type": "code",
   "execution_count": 25,
   "id": "medical-disco",
   "metadata": {},
   "outputs": [
    {
     "name": "stdout",
     "output_type": "stream",
     "text": [
      "0.9473684210526315\n"
     ]
    }
   ],
   "source": [
    "y_pred = model.predict(x_test)\n",
    "acc = metrics.accuracy_score(y_test, y_pred)\n",
    "print(acc)"
   ]
  },
  {
   "cell_type": "code",
   "execution_count": null,
   "id": "tight-discipline",
   "metadata": {},
   "outputs": [],
   "source": []
  },
  {
   "cell_type": "code",
   "execution_count": null,
   "id": "cardiac-arrangement",
   "metadata": {},
   "outputs": [],
   "source": []
  },
  {
   "cell_type": "markdown",
   "id": "inappropriate-static",
   "metadata": {},
   "source": [
    "## Compare with KNN"
   ]
  },
  {
   "cell_type": "code",
   "execution_count": 26,
   "id": "czech-university",
   "metadata": {},
   "outputs": [
    {
     "name": "stdout",
     "output_type": "stream",
     "text": [
      "0.9473684210526315\n"
     ]
    }
   ],
   "source": [
    "from sklearn.neighbors import KNeighborsClassifier\n",
    "\n",
    "model = KNeighborsClassifier(n_neighbors=11)\n",
    "model.fit(x_train, y_train)\n",
    "y_pred = model.predict(x_test)\n",
    "acc = metrics.accuracy_score(y_test, y_pred)\n",
    "print(acc)"
   ]
  },
  {
   "cell_type": "code",
   "execution_count": null,
   "id": "random-afternoon",
   "metadata": {},
   "outputs": [],
   "source": []
  }
 ],
 "metadata": {
  "kernelspec": {
   "display_name": "Python 3",
   "language": "python",
   "name": "python3"
  },
  "language_info": {
   "codemirror_mode": {
    "name": "ipython",
    "version": 3
   },
   "file_extension": ".py",
   "mimetype": "text/x-python",
   "name": "python",
   "nbconvert_exporter": "python",
   "pygments_lexer": "ipython3",
   "version": "3.8.5"
  }
 },
 "nbformat": 4,
 "nbformat_minor": 5
}
