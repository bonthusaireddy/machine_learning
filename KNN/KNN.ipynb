{
 "cells": [
  {
   "cell_type": "markdown",
   "metadata": {},
   "source": [
    "# KNN"
   ]
  },
  {
   "cell_type": "markdown",
   "metadata": {},
   "source": [
    "### 1: Import necessary packages"
   ]
  },
  {
   "cell_type": "code",
   "execution_count": 1,
   "metadata": {},
   "outputs": [],
   "source": [
    "import sklearn\n",
    "from sklearn.utils import shuffle \n",
    "from sklearn.neighbors import KNeighborsClassifier\n",
    "import pandas as pd\n",
    "import numpy as np\n",
    "from sklearn import linear_model, preprocessing"
   ]
  },
  {
   "cell_type": "markdown",
   "metadata": {},
   "source": [
    "### 2: Load the dataset"
   ]
  },
  {
   "cell_type": "code",
   "execution_count": 4,
   "metadata": {},
   "outputs": [],
   "source": [
    "data = pd.read_csv(\"car.data\")"
   ]
  },
  {
   "cell_type": "markdown",
   "metadata": {},
   "source": [
    "## Tweak in to the data"
   ]
  },
  {
   "cell_type": "code",
   "execution_count": 5,
   "metadata": {
    "scrolled": true
   },
   "outputs": [
    {
     "data": {
      "text/plain": [
       "<bound method NDFrame.head of      buying  maint   door persons lug_boot safety  class\n",
       "0     vhigh  vhigh      2       2    small    low  unacc\n",
       "1     vhigh  vhigh      2       2    small    med  unacc\n",
       "2     vhigh  vhigh      2       2    small   high  unacc\n",
       "3     vhigh  vhigh      2       2      med    low  unacc\n",
       "4     vhigh  vhigh      2       2      med    med  unacc\n",
       "...     ...    ...    ...     ...      ...    ...    ...\n",
       "1723    low    low  5more    more      med    med   good\n",
       "1724    low    low  5more    more      med   high  vgood\n",
       "1725    low    low  5more    more      big    low  unacc\n",
       "1726    low    low  5more    more      big    med   good\n",
       "1727    low    low  5more    more      big   high  vgood\n",
       "\n",
       "[1728 rows x 7 columns]>"
      ]
     },
     "execution_count": 5,
     "metadata": {},
     "output_type": "execute_result"
    }
   ],
   "source": [
    "data.head"
   ]
  },
  {
   "cell_type": "code",
   "execution_count": 6,
   "metadata": {},
   "outputs": [
    {
     "data": {
      "text/plain": [
       "(1728, 7)"
      ]
     },
     "execution_count": 6,
     "metadata": {},
     "output_type": "execute_result"
    }
   ],
   "source": [
    "data.shape"
   ]
  },
  {
   "cell_type": "code",
   "execution_count": 10,
   "metadata": {},
   "outputs": [
    {
     "data": {
      "text/plain": [
       "Index(['buying', 'maint', 'door', 'persons', 'lug_boot', 'safety', 'class'], dtype='object')"
      ]
     },
     "execution_count": 10,
     "metadata": {},
     "output_type": "execute_result"
    }
   ],
   "source": [
    "data.columns"
   ]
  },
  {
   "cell_type": "markdown",
   "metadata": {},
   "source": [
    "### 3: For KNN data should be numeric <br>\n",
    "    In order to train in k-Nearest Neighbor Classifier we must convert any string data into some kind of a number "
   ]
  },
  {
   "cell_type": "code",
   "execution_count": 11,
   "metadata": {},
   "outputs": [],
   "source": [
    "le = preprocessing.LabelEncoder()"
   ]
  },
  {
   "cell_type": "code",
   "execution_count": 12,
   "metadata": {},
   "outputs": [],
   "source": [
    "buying = le.fit_transform(list(data[\"buying\"]))\n",
    "maint = le.fit_transform(list(data[\"maint\"]))\n",
    "door = le.fit_transform(list(data[\"door\"]))\n",
    "persons = le.fit_transform(list(data[\"persons\"]))\n",
    "lug_boot = le.fit_transform(list(data[\"lug_boot\"]))\n",
    "safety = le.fit_transform(list(data[\"safety\"]))\n",
    "cls = le.fit_transform(list(data[\"class\"]))"
   ]
  },
  {
   "cell_type": "markdown",
   "metadata": {},
   "source": [
    "### 4: Convert this columns in to a list"
   ]
  },
  {
   "cell_type": "code",
   "execution_count": 13,
   "metadata": {},
   "outputs": [],
   "source": [
    "#features\n",
    "x = list(zip(buying, maint, door, persons, lug_boot, safety)) \n",
    "#labels\n",
    "y = list(cls)"
   ]
  },
  {
   "cell_type": "markdown",
   "metadata": {},
   "source": [
    "### 5: Split the data into training data and testing data"
   ]
  },
  {
   "cell_type": "code",
   "execution_count": 14,
   "metadata": {},
   "outputs": [],
   "source": [
    "x_train, x_test, y_train, y_test = sklearn.model_selection.train_test_split(x,y,test_size=0.1)"
   ]
  },
  {
   "cell_type": "markdown",
   "metadata": {},
   "source": [
    "### 6: Define no of neighbors "
   ]
  },
  {
   "cell_type": "code",
   "execution_count": 17,
   "metadata": {},
   "outputs": [],
   "source": [
    "model = KNeighborsClassifier(n_neighbors=9)"
   ]
  },
  {
   "cell_type": "markdown",
   "metadata": {},
   "source": [
    "### 7: Train the model with training data and training label data "
   ]
  },
  {
   "cell_type": "code",
   "execution_count": 18,
   "metadata": {},
   "outputs": [
    {
     "data": {
      "text/plain": [
       "KNeighborsClassifier(n_neighbors=9)"
      ]
     },
     "execution_count": 18,
     "metadata": {},
     "output_type": "execute_result"
    }
   ],
   "source": [
    "model.fit(x_train, y_train)"
   ]
  },
  {
   "cell_type": "markdown",
   "metadata": {},
   "source": [
    "### 8: Check the accuracy of the model "
   ]
  },
  {
   "cell_type": "code",
   "execution_count": 28,
   "metadata": {},
   "outputs": [
    {
     "name": "stdout",
     "output_type": "stream",
     "text": [
      "0.9884393063583815\n"
     ]
    }
   ],
   "source": [
    "acc = model.score(x_test, y_test)\n",
    "print(acc)"
   ]
  },
  {
   "cell_type": "markdown",
   "metadata": {},
   "source": [
    "### 9: Lets save the model"
   ]
  },
  {
   "cell_type": "code",
   "execution_count": 30,
   "metadata": {},
   "outputs": [],
   "source": [
    "import pickle\n",
    "with open(\"KNN_98_accuracy.pickle\",\"wb\") as file:\n",
    "    pickle.dump(model, file)"
   ]
  },
  {
   "cell_type": "markdown",
   "metadata": {},
   "source": [
    "### 10: Now you can load the model from where you have saved "
   ]
  },
  {
   "cell_type": "code",
   "execution_count": 31,
   "metadata": {},
   "outputs": [],
   "source": [
    "knn_model = open(\"KNN.pickle\", \"rb\")\n",
    "model = pickle.load(knn_model)"
   ]
  },
  {
   "cell_type": "markdown",
   "metadata": {},
   "source": [
    "### 11: Get the predicted data in a variable"
   ]
  },
  {
   "cell_type": "code",
   "execution_count": 32,
   "metadata": {},
   "outputs": [],
   "source": [
    "predicted = model.predict(x_test)"
   ]
  },
  {
   "cell_type": "markdown",
   "metadata": {},
   "source": [
    "### 12: Check the predicted and actual value"
   ]
  },
  {
   "cell_type": "code",
   "execution_count": 34,
   "metadata": {},
   "outputs": [
    {
     "name": "stdout",
     "output_type": "stream",
     "text": [
      "Predicted:  good Data:  (1, 3, 2, 2, 0, 1) Actual:  good\n",
      "Predicted:  good Data:  (0, 0, 1, 2, 2, 1) Actual:  good\n",
      "Predicted:  unacc Data:  (0, 0, 2, 2, 0, 0) Actual:  unacc\n",
      "Predicted:  good Data:  (0, 2, 1, 0, 2, 0) Actual:  good\n",
      "Predicted:  good Data:  (0, 0, 1, 1, 1, 2) Actual:  good\n",
      "Predicted:  unacc Data:  (2, 2, 3, 1, 2, 0) Actual:  unacc\n",
      "Predicted:  good Data:  (2, 1, 1, 2, 0, 1) Actual:  good\n",
      "Predicted:  good Data:  (1, 1, 1, 0, 0, 1) Actual:  good\n",
      "Predicted:  good Data:  (0, 0, 3, 0, 1, 2) Actual:  good\n",
      "Predicted:  good Data:  (3, 3, 1, 1, 0, 0) Actual:  good\n",
      "Predicted:  good Data:  (3, 2, 0, 0, 2, 0) Actual:  good\n",
      "Predicted:  good Data:  (3, 1, 0, 0, 2, 2) Actual:  good\n",
      "Predicted:  good Data:  (1, 0, 3, 2, 1, 1) Actual:  good\n",
      "Predicted:  good Data:  (2, 0, 2, 0, 1, 2) Actual:  good\n",
      "Predicted:  good Data:  (1, 3, 1, 1, 1, 1) Actual:  good\n",
      "Predicted:  unacc Data:  (1, 2, 1, 2, 2, 2) Actual:  unacc\n",
      "Predicted:  good Data:  (0, 1, 0, 2, 2, 0) Actual:  good\n",
      "Predicted:  good Data:  (1, 0, 3, 2, 0, 1) Actual:  good\n",
      "Predicted:  good Data:  (2, 1, 1, 0, 1, 0) Actual:  good\n",
      "Predicted:  good Data:  (0, 2, 3, 1, 2, 1) Actual:  good\n",
      "Predicted:  good Data:  (3, 0, 2, 2, 0, 0) Actual:  good\n",
      "Predicted:  good Data:  (1, 0, 2, 2, 0, 1) Actual:  good\n",
      "Predicted:  good Data:  (3, 1, 0, 0, 0, 0) Actual:  good\n",
      "Predicted:  good Data:  (3, 2, 0, 0, 0, 1) Actual:  good\n",
      "Predicted:  unacc Data:  (1, 3, 0, 2, 1, 0) Actual:  unacc\n",
      "Predicted:  unacc Data:  (2, 2, 3, 1, 2, 2) Actual:  unacc\n",
      "Predicted:  unacc Data:  (1, 2, 3, 2, 2, 2) Actual:  unacc\n",
      "Predicted:  good Data:  (1, 3, 1, 1, 2, 2) Actual:  good\n",
      "Predicted:  good Data:  (2, 1, 2, 0, 0, 0) Actual:  good\n",
      "Predicted:  good Data:  (3, 3, 1, 0, 2, 1) Actual:  good\n",
      "Predicted:  unacc Data:  (1, 3, 0, 1, 1, 0) Actual:  unacc\n",
      "Predicted:  good Data:  (1, 0, 3, 0, 2, 1) Actual:  good\n",
      "Predicted:  unacc Data:  (3, 1, 0, 1, 1, 0) Actual:  unacc\n",
      "Predicted:  unacc Data:  (2, 2, 1, 1, 1, 2) Actual:  unacc\n",
      "Predicted:  good Data:  (0, 1, 0, 0, 1, 2) Actual:  good\n",
      "Predicted:  unacc Data:  (0, 2, 0, 1, 0, 0) Actual:  unacc\n",
      "Predicted:  good Data:  (2, 1, 0, 0, 0, 1) Actual:  good\n",
      "Predicted:  unacc Data:  (2, 3, 2, 2, 1, 0) Actual:  unacc\n",
      "Predicted:  good Data:  (0, 3, 2, 2, 1, 0) Actual:  good\n",
      "Predicted:  unacc Data:  (2, 0, 1, 1, 0, 2) Actual:  unacc\n",
      "Predicted:  unacc Data:  (0, 1, 2, 1, 0, 0) Actual:  unacc\n",
      "Predicted:  good Data:  (3, 0, 1, 0, 2, 1) Actual:  good\n",
      "Predicted:  good Data:  (3, 3, 1, 1, 0, 1) Actual:  good\n",
      "Predicted:  good Data:  (0, 0, 2, 2, 0, 1) Actual:  good\n",
      "Predicted:  good Data:  (1, 0, 1, 2, 1, 1) Actual:  good\n",
      "Predicted:  good Data:  (2, 3, 0, 0, 0, 1) Actual:  good\n",
      "Predicted:  good Data:  (1, 1, 0, 1, 0, 1) Actual:  good\n",
      "Predicted:  unacc Data:  (2, 2, 0, 2, 1, 2) Actual:  unacc\n",
      "Predicted:  unacc Data:  (1, 0, 0, 2, 1, 2) Actual:  unacc\n",
      "Predicted:  good Data:  (3, 0, 4, 1, 0, 0) Actual:  good\n",
      "Predicted:  good Data:  (1, 1, 0, 1, 2, 0) Actual:  acc\n",
      "Predicted:  unacc Data:  (2, 3, 2, 2, 0, 2) Actual:  unacc\n",
      "Predicted:  good Data:  (3, 0, 4, 2, 0, 0) Actual:  good\n",
      "Predicted:  good Data:  (0, 1, 3, 0, 0, 1) Actual:  good\n",
      "Predicted:  good Data:  (3, 0, 4, 2, 1, 2) Actual:  good\n",
      "Predicted:  good Data:  (3, 0, 0, 2, 2, 2) Actual:  good\n",
      "Predicted:  good Data:  (2, 0, 3, 0, 1, 1) Actual:  good\n",
      "Predicted:  good Data:  (3, 3, 1, 0, 2, 2) Actual:  good\n",
      "Predicted:  good Data:  (3, 3, 3, 2, 2, 1) Actual:  good\n",
      "Predicted:  unacc Data:  (0, 2, 0, 2, 0, 2) Actual:  unacc\n",
      "Predicted:  good Data:  (0, 1, 3, 0, 2, 2) Actual:  good\n",
      "Predicted:  good Data:  (0, 0, 1, 0, 1, 0) Actual:  good\n",
      "Predicted:  good Data:  (0, 0, 3, 0, 0, 1) Actual:  good\n",
      "Predicted:  good Data:  (3, 1, 2, 2, 0, 1) Actual:  good\n",
      "Predicted:  good Data:  (3, 1, 1, 1, 2, 2) Actual:  good\n",
      "Predicted:  good Data:  (2, 3, 2, 1, 0, 1) Actual:  good\n",
      "Predicted:  acc Data:  (1, 2, 0, 1, 1, 0) Actual:  acc\n",
      "Predicted:  vgood Data:  (2, 2, 0, 2, 0, 0) Actual:  vgood\n",
      "Predicted:  good Data:  (0, 0, 0, 2, 1, 2) Actual:  good\n",
      "Predicted:  good Data:  (2, 0, 2, 2, 2, 1) Actual:  good\n",
      "Predicted:  unacc Data:  (2, 3, 3, 1, 1, 2) Actual:  unacc\n",
      "Predicted:  good Data:  (0, 2, 3, 0, 1, 2) Actual:  good\n",
      "Predicted:  good Data:  (2, 3, 3, 1, 2, 2) Actual:  good\n",
      "Predicted:  unacc Data:  (0, 2, 1, 1, 0, 2) Actual:  unacc\n",
      "Predicted:  good Data:  (3, 1, 1, 1, 1, 2) Actual:  good\n",
      "Predicted:  good Data:  (3, 0, 0, 1, 2, 1) Actual:  good\n",
      "Predicted:  good Data:  (1, 1, 3, 2, 1, 1) Actual:  good\n",
      "Predicted:  good Data:  (1, 1, 0, 0, 1, 0) Actual:  good\n",
      "Predicted:  good Data:  (3, 3, 2, 1, 2, 2) Actual:  good\n",
      "Predicted:  good Data:  (3, 3, 2, 0, 2, 0) Actual:  good\n",
      "Predicted:  good Data:  (0, 3, 2, 0, 2, 0) Actual:  good\n",
      "Predicted:  good Data:  (1, 2, 1, 0, 2, 2) Actual:  good\n",
      "Predicted:  good Data:  (2, 1, 1, 1, 0, 1) Actual:  good\n",
      "Predicted:  good Data:  (2, 1, 1, 0, 2, 0) Actual:  good\n",
      "Predicted:  unacc Data:  (2, 3, 2, 2, 0, 0) Actual:  unacc\n",
      "Predicted:  good Data:  (1, 0, 2, 1, 0, 1) Actual:  good\n",
      "Predicted:  good Data:  (2, 0, 0, 0, 2, 0) Actual:  good\n",
      "Predicted:  good Data:  (3, 3, 1, 0, 1, 0) Actual:  good\n",
      "Predicted:  good Data:  (3, 3, 2, 0, 1, 1) Actual:  good\n",
      "Predicted:  good Data:  (2, 1, 0, 2, 1, 1) Actual:  good\n",
      "Predicted:  good Data:  (3, 1, 1, 0, 2, 2) Actual:  good\n",
      "Predicted:  good Data:  (1, 2, 0, 2, 2, 1) Actual:  good\n",
      "Predicted:  good Data:  (3, 2, 3, 0, 2, 1) Actual:  good\n",
      "Predicted:  good Data:  (0, 0, 3, 2, 2, 1) Actual:  good\n",
      "Predicted:  vgood Data:  (1, 0, 0, 2, 0, 0) Actual:  vgood\n",
      "Predicted:  good Data:  (1, 3, 1, 0, 2, 0) Actual:  good\n",
      "Predicted:  good Data:  (2, 0, 1, 0, 2, 0) Actual:  good\n",
      "Predicted:  unacc Data:  (3, 1, 1, 1, 1, 0) Actual:  unacc\n",
      "Predicted:  good Data:  (1, 3, 1, 0, 1, 1) Actual:  good\n",
      "Predicted:  unacc Data:  (0, 1, 2, 1, 1, 0) Actual:  unacc\n",
      "Predicted:  good Data:  (3, 0, 1, 2, 2, 1) Actual:  good\n",
      "Predicted:  good Data:  (1, 2, 1, 2, 1, 1) Actual:  good\n",
      "Predicted:  good Data:  (3, 3, 0, 0, 2, 2) Actual:  good\n",
      "Predicted:  good Data:  (3, 0, 0, 0, 2, 1) Actual:  good\n",
      "Predicted:  acc Data:  (1, 1, 2, 2, 0, 2) Actual:  acc\n",
      "Predicted:  good Data:  (3, 3, 2, 1, 0, 1) Actual:  good\n",
      "Predicted:  unacc Data:  (1, 0, 2, 2, 1, 2) Actual:  unacc\n",
      "Predicted:  good Data:  (3, 1, 0, 0, 1, 2) Actual:  good\n",
      "Predicted:  good Data:  (1, 2, 1, 0, 1, 0) Actual:  good\n",
      "Predicted:  good Data:  (1, 3, 0, 0, 0, 2) Actual:  good\n",
      "Predicted:  good Data:  (3, 3, 2, 1, 1, 2) Actual:  good\n",
      "Predicted:  acc Data:  (2, 1, 1, 2, 0, 2) Actual:  acc\n",
      "Predicted:  good Data:  (2, 1, 1, 2, 1, 1) Actual:  good\n",
      "Predicted:  good Data:  (0, 0, 1, 0, 1, 1) Actual:  good\n",
      "Predicted:  good Data:  (3, 1, 0, 0, 0, 2) Actual:  good\n",
      "Predicted:  good Data:  (1, 3, 2, 0, 1, 2) Actual:  good\n",
      "Predicted:  good Data:  (0, 0, 0, 2, 0, 1) Actual:  good\n",
      "Predicted:  good Data:  (2, 2, 3, 0, 0, 1) Actual:  good\n",
      "Predicted:  unacc Data:  (1, 0, 1, 2, 0, 2) Actual:  unacc\n",
      "Predicted:  good Data:  (2, 0, 2, 1, 2, 2) Actual:  good\n",
      "Predicted:  good Data:  (2, 3, 2, 1, 1, 1) Actual:  good\n",
      "Predicted:  acc Data:  (1, 2, 1, 2, 0, 2) Actual:  acc\n",
      "Predicted:  good Data:  (2, 3, 2, 0, 0, 2) Actual:  good\n",
      "Predicted:  vgood Data:  (1, 1, 0, 1, 0, 0) Actual:  vgood\n",
      "Predicted:  unacc Data:  (0, 0, 3, 2, 0, 0) Actual:  unacc\n",
      "Predicted:  good Data:  (0, 1, 2, 0, 0, 1) Actual:  good\n",
      "Predicted:  good Data:  (3, 0, 4, 1, 2, 1) Actual:  good\n",
      "Predicted:  good Data:  (1, 0, 0, 0, 2, 2) Actual:  good\n",
      "Predicted:  good Data:  (1, 3, 2, 2, 2, 1) Actual:  good\n",
      "Predicted:  good Data:  (2, 3, 3, 0, 2, 0) Actual:  good\n",
      "Predicted:  good Data:  (1, 1, 1, 0, 2, 1) Actual:  good\n",
      "Predicted:  good Data:  (3, 2, 3, 2, 0, 1) Actual:  good\n",
      "Predicted:  good Data:  (0, 0, 2, 2, 2, 2) Actual:  good\n",
      "Predicted:  good Data:  (0, 2, 2, 1, 0, 1) Actual:  good\n",
      "Predicted:  good Data:  (0, 2, 0, 0, 0, 0) Actual:  good\n",
      "Predicted:  unacc Data:  (0, 2, 1, 2, 2, 0) Actual:  unacc\n",
      "Predicted:  good Data:  (3, 1, 1, 1, 1, 1) Actual:  good\n",
      "Predicted:  good Data:  (1, 0, 3, 0, 1, 1) Actual:  good\n",
      "Predicted:  good Data:  (3, 2, 1, 2, 2, 2) Actual:  good\n",
      "Predicted:  good Data:  (2, 2, 1, 2, 2, 1) Actual:  good\n",
      "Predicted:  good Data:  (2, 2, 0, 2, 0, 1) Actual:  good\n",
      "Predicted:  unacc Data:  (0, 0, 3, 1, 1, 2) Actual:  unacc\n",
      "Predicted:  good Data:  (0, 3, 3, 1, 2, 0) Actual:  good\n",
      "Predicted:  good Data:  (0, 3, 3, 0, 2, 0) Actual:  good\n",
      "Predicted:  good Data:  (0, 1, 1, 0, 2, 1) Actual:  good\n",
      "Predicted:  good Data:  (1, 1, 2, 1, 2, 1) Actual:  good\n",
      "Predicted:  good Data:  (2, 1, 3, 0, 0, 1) Actual:  good\n",
      "Predicted:  acc Data:  (1, 1, 1, 1, 2, 0) Actual:  acc\n",
      "Predicted:  good Data:  (3, 3, 0, 0, 0, 0) Actual:  good\n",
      "Predicted:  good Data:  (2, 3, 1, 0, 0, 1) Actual:  good\n",
      "Predicted:  good Data:  (3, 1, 3, 1, 2, 1) Actual:  good\n",
      "Predicted:  good Data:  (0, 1, 2, 2, 0, 1) Actual:  good\n",
      "Predicted:  good Data:  (1, 3, 0, 1, 1, 1) Actual:  good\n",
      "Predicted:  good Data:  (2, 2, 3, 1, 0, 1) Actual:  good\n",
      "Predicted:  good Data:  (2, 1, 2, 0, 1, 2) Actual:  good\n",
      "Predicted:  good Data:  (1, 1, 1, 1, 1, 1) Actual:  good\n",
      "Predicted:  good Data:  (0, 1, 0, 0, 0, 0) Actual:  good\n",
      "Predicted:  good Data:  (3, 3, 3, 2, 1, 0) Actual:  good\n",
      "Predicted:  good Data:  (2, 3, 0, 2, 2, 2) Actual:  good\n",
      "Predicted:  good Data:  (3, 3, 2, 2, 1, 1) Actual:  good\n",
      "Predicted:  unacc Data:  (0, 1, 1, 2, 1, 0) Actual:  unacc\n",
      "Predicted:  vgood Data:  (2, 2, 3, 1, 1, 0) Actual:  vgood\n",
      "Predicted:  vgood Data:  (1, 1, 2, 2, 1, 0) Actual:  vgood\n",
      "Predicted:  good Data:  (0, 0, 3, 0, 2, 2) Actual:  good\n",
      "Predicted:  unacc Data:  (0, 2, 2, 1, 0, 2) Actual:  unacc\n",
      "Predicted:  good Data:  (2, 0, 1, 1, 1, 1) Actual:  good\n",
      "Predicted:  good Data:  (3, 2, 1, 2, 1, 1) Actual:  good\n",
      "Predicted:  unacc Data:  (0, 2, 2, 2, 2, 0) Actual:  unacc\n",
      "Predicted:  good Data:  (2, 1, 0, 2, 2, 2) Actual:  good\n",
      "Predicted:  good Data:  (1, 1, 1, 1, 2, 1) Actual:  good\n",
      "Predicted:  good Data:  (0, 3, 0, 2, 0, 1) Actual:  good\n",
      "Predicted:  unacc Data:  (1, 0, 3, 2, 0, 0) Actual:  vgood\n",
      "Predicted:  good Data:  (3, 3, 0, 2, 0, 0) Actual:  good\n"
     ]
    }
   ],
   "source": [
    "names = [\"unacc\", \"acc\", \"good\", \"vgood\"]\n",
    "for x in range(len(x_test)):\n",
    "    print(\"Predicted: \", names[predicted[x]], \"Data: \", x_test[x], \"Actual: \", names[y_test[x]])"
   ]
  },
  {
   "cell_type": "markdown",
   "metadata": {},
   "source": [
    "### 13: Check the k nearest neighbours\n"
   ]
  },
  {
   "cell_type": "code",
   "execution_count": 37,
   "metadata": {},
   "outputs": [
    {
     "name": "stdout",
     "output_type": "stream",
     "text": [
      "N:  15\n"
     ]
    }
   ],
   "source": [
    "i = 12\n",
    "n = np.argmax(model.kneighbors([x_test[x]], 9, True))\n",
    "print(\"N: \", n)"
   ]
  },
  {
   "cell_type": "code",
   "execution_count": 44,
   "metadata": {},
   "outputs": [
    {
     "name": "stdout",
     "output_type": "stream",
     "text": [
      "N:  (array([[1., 1., 1., 1., 1.]]), array([[ 184, 1209,   24,  721, 1334]], dtype=int64))\n"
     ]
    }
   ],
   "source": [
    "i = 12\n",
    "n = model.kneighbors([x_test[x]], 5, True)\n",
    "print(\"N: \", n)"
   ]
  },
  {
   "cell_type": "code",
   "execution_count": null,
   "metadata": {},
   "outputs": [],
   "source": []
  }
 ],
 "metadata": {
  "kernelspec": {
   "display_name": "Python 3",
   "language": "python",
   "name": "python3"
  },
  "language_info": {
   "codemirror_mode": {
    "name": "ipython",
    "version": 3
   },
   "file_extension": ".py",
   "mimetype": "text/x-python",
   "name": "python",
   "nbconvert_exporter": "python",
   "pygments_lexer": "ipython3",
   "version": "3.8.5"
  }
 },
 "nbformat": 4,
 "nbformat_minor": 4
}
